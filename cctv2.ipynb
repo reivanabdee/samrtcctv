{
 "cells": [
  {
   "cell_type": "code",
   "execution_count": 15,
   "metadata": {
    "tags": []
   },
   "outputs": [],
   "source": [
    "import cv2\n",
    "\n",
    "video1 = cv2.VideoCapture('https://192.168.1.8:8080/video')\n",
    "video2 = cv2.VideoCapture(0)\n",
    "cascadeModel = cv2.data.haarcascades + \"haarcascade_frontalface_alt.xml\"\n",
    "cascadeWajah = cv2.CascadeClassifier(cascadeModel)\n",
    "\n",
    "\n",
    "while True:\n",
    "    ret1, frame1 = video1.read()\n",
    "    ret2, frame2 = video2.read()\n",
    "    gray2 = cv2.cvtColor(frame2, cv2.COLOR_BGR2GRAY)\n",
    "    gray1 = cv2.cvtColor(frame1, cv2.COLOR_BGR2GRAY)\n",
    "    wajah2 = cascadeWajah.detectMultiScale(gray2, 1.29,6)\n",
    "    wajah1 = cascadeWajah.detectMultiScale(gray1, 1.29,6)\n",
    "    cv2.line(frame1, (380,0), (392,479), (0,0,255),5)\n",
    "    \n",
    "    # if (ret1):\n",
    "    #     # cv2.imshow(\"frame1\",frame1)\n",
    "    #     pass\n",
    "               \n",
    "    if ret2 == True:\n",
    "        if (x,y,w,h) not in wajah2: \n",
    "            for (x,y,w,h) in wajah1:\n",
    "                cv2.rectangle(frame1, (x,y), (x+w, y+h), (0,255,0),2) \n",
    "            cv2.imshow(\"frame1\",frame1)\n",
    "            \n",
    "        for (x,y,w,h) in wajah2:\n",
    "            cv2.rectangle(frame2, (x,y), (x+w, y+h), (0,255,0),2)\n",
    "            cv2.destroyWindow(\"frame1\")\n",
    "            \n",
    "    \n",
    "                \n",
    "            # if (x <= 0 ,y <= 0,w <= 0,h <= 0) in wajah:q\n",
    "            #     print(\"anjay\")\n",
    "            \n",
    "#             if True:                           ##jika valid\n",
    "#                 cv2.imshow(\"frame1\",frame1)\n",
    "#             else:\n",
    "#                 print(\"anjay\")\n",
    "            \n",
    "        # cv2.imshow(\"gray\", gray2) \n",
    "        # print(wajah)\n",
    "        cv2.imshow(\"frame2\", frame2)\n",
    "    if cv2.waitKey(1) & 0xFF == ord ('q'):\n",
    "        break\n",
    "        \n",
    "video1.release()\n",
    "video2.release()\n",
    "cv2.destroyAllWindows()"
   ]
  },
  {
   "cell_type": "code",
   "execution_count": null,
   "metadata": {},
   "outputs": [],
   "source": []
  },
  {
   "cell_type": "code",
   "execution_count": 2,
   "metadata": {},
   "outputs": [
    {
     "name": "stdout",
     "output_type": "stream",
     "text": [
      "Level 3\n"
     ]
    }
   ],
   "source": [
    "from playsound import playsound\n",
    "import time\n",
    "  \n",
    "# for playing note.wav file\n",
    "playsound('warn.mp3')\n",
    "print('Level 3')"
   ]
  },
  {
   "cell_type": "code",
   "execution_count": null,
   "metadata": {},
   "outputs": [],
   "source": []
  },
  {
   "cell_type": "code",
   "execution_count": null,
   "metadata": {},
   "outputs": [],
   "source": []
  },
  {
   "cell_type": "code",
   "execution_count": null,
   "metadata": {},
   "outputs": [],
   "source": []
  }
 ],
 "metadata": {
  "kernelspec": {
   "display_name": "Python 3 (ipykernel)",
   "language": "python",
   "name": "python3"
  },
  "language_info": {
   "codemirror_mode": {
    "name": "ipython",
    "version": 3
   },
   "file_extension": ".py",
   "mimetype": "text/x-python",
   "name": "python",
   "nbconvert_exporter": "python",
   "pygments_lexer": "ipython3",
   "version": "3.10.4"
  }
 },
 "nbformat": 4,
 "nbformat_minor": 4
}
